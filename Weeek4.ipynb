{
 "cells": [
  {
   "cell_type": "raw",
   "id": "aa6562c9-33ad-4c29-a024-1f44353bb40e",
   "metadata": {},
   "source": [
    "1. Write a Python program to check whether a string is a palindrome or not using a stack."
   ]
  },
  {
   "cell_type": "markdown",
   "id": "33352465-07d8-4019-92a0-da535708c9f0",
   "metadata": {},
   "source": [
    "To check whether a string is a palindrome using a stack, you can follow these steps:\n",
    "\n",
    "Understand a Palindrome: A palindrome is a string that reads the same backward as forward. For example, \"radar\" and \"level\" are palindromes.\n",
    "\n",
    "Use a Stack: A stack is a data structure that follows the Last In, First Out (LIFO) principle.\n",
    "To check for a palindrome:\n",
    "\n",
    "Push each character of the string onto the stack.\n",
    "Pop characters from the stack and compare them to the original string from the start.\n",
    "If all characters match, the string is a palindrome."
   ]
  },
  {
   "cell_type": "code",
   "execution_count": 4,
   "id": "ff7dae57-c9a2-4745-99db-d9bcd7fc9813",
   "metadata": {},
   "outputs": [
    {
     "name": "stdout",
     "output_type": "stream",
     "text": [
      "Is 'radar' a palindrome? True\n",
      "Is 'hello' a palindrome? False\n"
     ]
    }
   ],
   "source": [
    "def is_palindrome(s):\n",
    "    \"\"\"\n",
    "    Check if the string s is a palindrome using a stack.\n",
    "    \n",
    "    :param s: The string to check.\n",
    "    :return: True if s is a palindrome, False otherwise.\n",
    "    \"\"\"\n",
    "    stack = []\n",
    "    \n",
    "    # Push all characters of the string onto the stack\n",
    "    for char in s:\n",
    "        stack.append(char)\n",
    "    \n",
    "    # Check if characters match when popped from the stack\n",
    "    for char in s:\n",
    "        if stack.pop() != char:\n",
    "            return False\n",
    "    \n",
    "    return True\n",
    "\n",
    "# Test the function\n",
    "test_string = \"radar\"\n",
    "print(f\"Is '{test_string}' a palindrome? {is_palindrome(test_string)}\")  \n",
    "\n",
    "test_string = \"hello\"\n",
    "print(f\"Is '{test_string}' a palindrome? {is_palindrome(test_string)}\")  "
   ]
  },
  {
   "cell_type": "raw",
   "id": "09dfc480-6d42-4b72-b6e5-d078901c15ef",
   "metadata": {},
   "source": [
    "2). Explain the concept of list comprehension in Python with at least three examples."
   ]
  },
  {
   "cell_type": "markdown",
   "id": "02701896-e5f6-445c-8a11-652d50682e50",
   "metadata": {},
   "source": [
    " List comprehension is a neat and compact way to create lists in Python. Think of it like a quick way to generate a list using a single line of code. It combines a loop and an optional condition to make it easier and more readable.\n",
    " Example of a list comprehension;\n",
    " 1.Creating a List of Squares\n",
    " Suppose you want a list of squares for numbers from 0 to 9:"
   ]
  },
  {
   "cell_type": "raw",
   "id": "7f2b9bdd-12a3-499a-811f-4853d4064def",
   "metadata": {},
   "source": [
    "i.Creating a List of Squares Suppose you want a list of squares for numbers from 0 to 9:"
   ]
  },
  {
   "cell_type": "code",
   "execution_count": 2,
   "id": "c5a70183-c975-44c4-985e-bda858af4f6c",
   "metadata": {},
   "outputs": [
    {
     "name": "stdout",
     "output_type": "stream",
     "text": [
      "[0, 1, 4, 9, 16, 25, 36, 49, 64, 81]\n"
     ]
    }
   ],
   "source": [
    "squares = [x**2 for x in range(10)]\n",
    "print(squares)"
   ]
  },
  {
   "cell_type": "markdown",
   "id": "92947915-2281-4955-9ad9-ed51cd609d7d",
   "metadata": {},
   "source": [
    "ii.Filtering Even Numbers\n",
    "\n",
    "Suppose you want a list of even numbers from 0 to 20:"
   ]
  },
  {
   "cell_type": "code",
   "execution_count": 1,
   "id": "40371231-195d-45c3-a0a5-51c6222741cb",
   "metadata": {},
   "outputs": [
    {
     "name": "stdout",
     "output_type": "stream",
     "text": [
      "[0, 2, 4, 6, 8, 10, 12, 14, 16, 18]\n"
     ]
    }
   ],
   "source": [
    "evens = [x for x in range(20) if x % 2 == 0]\n",
    "print(evens)"
   ]
  },
  {
   "cell_type": "markdown",
   "id": "d8c13095-5322-4bd1-9552-f767d62669cf",
   "metadata": {},
   "source": [
    "iii.Creating a List of Tuples\n",
    "Suppose you want a list of tuples where each tuple contains a number and its square:"
   ]
  },
  {
   "cell_type": "code",
   "execution_count": 2,
   "id": "0815595b-47dc-4c34-a132-e0622defdee9",
   "metadata": {},
   "outputs": [
    {
     "name": "stdout",
     "output_type": "stream",
     "text": [
      "[(0, 0), (1, 1), (2, 4), (3, 9), (4, 16)]\n"
     ]
    }
   ],
   "source": [
    "tuples = [(x, x**2) for x in range(5)]\n",
    "print(tuples)"
   ]
  },
  {
   "cell_type": "raw",
   "id": "91122d5e-6e24-47f3-b9cc-210125f44719",
   "metadata": {},
   "source": [
    "3). Explain what a compound datatype is in Python with three examples.\n"
   ]
  },
  {
   "cell_type": "markdown",
   "id": "b0532b97-0ee1-4d4a-a5ae-b517dd2f359c",
   "metadata": {},
   "source": [
    "In Python, a compound datatype is a data structure that allows you to store and manipulate collections of multiple values. Unlike simple datatypes (such as integers or strings), which hold a single value, compound datatypes can hold multiple values, which can be of different types. Compound datatypes are often used to group related data together.\n",
    "Examples of Compound Datatypes in Python;"
   ]
  },
  {
   "cell_type": "raw",
   "id": "5bffa608-ca2a-4dad-971a-63871b37a379",
   "metadata": {},
   "source": [
    "i.Lists\n",
    "You can think of a list as a shopping list where you write down multiple things you need to buy.\n",
    "Lists are ordered collections of items, which can be of any type, and they are mutable (i.e., you can change their contents). Lists are defined using square brackets []."
   ]
  },
  {
   "cell_type": "code",
   "execution_count": 6,
   "id": "a2b059e2-f446-429b-a266-dae59c34914e",
   "metadata": {},
   "outputs": [],
   "source": [
    "my_list = [1, 2, 3, 'apple', 'banana']"
   ]
  },
  {
   "cell_type": "markdown",
   "id": "8578d661-f7b9-4a9c-b4cf-36b47302e9ac",
   "metadata": {},
   "source": [
    "This list contains integers, strings.\n",
    "You can access elements by their index, modify elements, and use various list methods such as append(), remove(), etc."
   ]
  },
  {
   "cell_type": "markdown",
   "id": "c4a97357-e6d3-4840-8ecf-085a5bef8cbe",
   "metadata": {},
   "source": [
    "ii.Tuples \n",
    "These are similar to lists but are immutable, meaning that once created, their contents cannot be changed.Imagine it as a ticket with several pieces of information that you can’t modify once it’s printed.\n",
    "Tuples are defined using parentheses ()."
   ]
  },
  {
   "cell_type": "code",
   "execution_count": 7,
   "id": "a5f6632a-da87-41b6-94dc-6a7891f7b4a4",
   "metadata": {},
   "outputs": [],
   "source": [
    "my_tuple = (1, 2, 3, 'apple', 'banana')"
   ]
  },
  {
   "cell_type": "markdown",
   "id": "d27aa855-43c8-4e99-a734-212700414b5d",
   "metadata": {},
   "source": [
    "This tuple contains integers, strings, and another tuple.\n",
    "You can access elements by their index, but you cannot modify the tuple's contents."
   ]
  },
  {
   "cell_type": "markdown",
   "id": "484bade4-f637-4c80-be69-931aef39fb7d",
   "metadata": {},
   "source": [
    "iii.Dictionaries\n",
    "\n",
    "Dictionaries are collections of key-value pairs, where each key is unique. They are defined using curly braces {} and are mutable."
   ]
  },
  {
   "cell_type": "code",
   "execution_count": 8,
   "id": "4b06b0aa-ac42-4799-8f62-916695f902a0",
   "metadata": {},
   "outputs": [],
   "source": [
    "my_dict = {\n",
    "    'name': 'Alice',\n",
    "    'age': 30,\n",
    "    'city': 'New York',\n",
    "    'hobbies': ['reading', 'hiking'],\n",
    "    'address': {'street': '123 Main St', 'zipcode': '10001'}\n",
    "}"
   ]
  },
  {
   "cell_type": "markdown",
   "id": "d2eda3fd-f60f-4ac9-b391-a71687c54f47",
   "metadata": {},
   "source": [
    "In this dictionary, each key (like 'name', 'age', and 'city') is associated with a value (like 'Alice', 30, and 'New York'). You use keys to look up their corresponding values."
   ]
  },
  {
   "cell_type": "raw",
   "id": "bc9f4a06-927e-4bad-bc81-6fc04f3c08df",
   "metadata": {},
   "source": [
    "4). Write a function that takes a string and returns a list of bigrams."
   ]
  },
  {
   "cell_type": "markdown",
   "id": "9ac119cb-16ab-490a-bfb5-5523fb3b562e",
   "metadata": {},
   "source": [
    " A bigram is just a pair of two consecutive items from a string. You can create bigrams of either characters or words. \n",
    "\n"
   ]
  },
  {
   "cell_type": "markdown",
   "id": "78d82099-a1df-4007-9f07-c62eb53b343a",
   "metadata": {},
   "source": [
    "Bigrams of Characters"
   ]
  },
  {
   "cell_type": "code",
   "execution_count": 10,
   "id": "af3ac188-87ac-432d-a053-800e521581d2",
   "metadata": {},
   "outputs": [
    {
     "name": "stdout",
     "output_type": "stream",
     "text": [
      "[('k', 'e'), ('e', 'n'), ('n', 'y'), ('y', 'a')]\n"
     ]
    }
   ],
   "source": [
    "def bigrams_of_characters(text):\n",
    "    # Create a list of bigrams (pairs of characters)\n",
    "    bigrams = [(text[i], text[i+1]) for i in range(len(text) - 1)]\n",
    "    return bigrams\n",
    "\n",
    "# Example usage:\n",
    "text = \"kenya\"\n",
    "print(bigrams_of_characters(text))"
   ]
  },
  {
   "cell_type": "markdown",
   "id": "21552a30-2123-4c53-bb55-2e2d4881d371",
   "metadata": {},
   "source": [
    "#text[i] is the current character.\n",
    "text[i+1] is the next character.\n",
    "We use a loop to create pairs of each character and the next one.\n",
    "len(text) - 1 makes sure we don’t go out of range."
   ]
  },
  {
   "cell_type": "markdown",
   "id": "03c3332a-6e66-4892-ab1e-7127f43b83b1",
   "metadata": {},
   "source": [
    "#Biograms of words"
   ]
  },
  {
   "cell_type": "code",
   "execution_count": 12,
   "id": "e8f7e958-e5dc-4abf-a016-7f795bcec77d",
   "metadata": {},
   "outputs": [
    {
     "name": "stdout",
     "output_type": "stream",
     "text": [
      "[('ruto', 'must'), ('must', 'go'), ('go', 'home')]\n"
     ]
    }
   ],
   "source": [
    "def bigrams_of_words(text):\n",
    "    # Split the string into words\n",
    "    words = text.split()\n",
    "    # Create a list of bigrams (pairs of words)\n",
    "    bigrams = [(words[i], words[i+1]) for i in range(len(words) - 1)]\n",
    "    return bigrams\n",
    "\n",
    "# Example usage:\n",
    "text = \"ruto must go home\"\n",
    "print(bigrams_of_words(text))\n"
   ]
  },
  {
   "cell_type": "code",
   "execution_count": null,
   "id": "57dcdc8f-cfe8-47af-a6b7-59e9f6189c6b",
   "metadata": {},
   "outputs": [],
   "source": [
    "'text.split() breaks the string into a list of words.\n",
    "words[i] is the current word.\n",
    "words[i+1] is the next word.\n",
    "We loop through the list to create pairs of each word and the next one."
   ]
  },
  {
   "cell_type": "markdown",
   "id": "d22afcd6-92cf-441d-bc53-7567ea19e97c",
   "metadata": {},
   "source": [
    "5). Given a dictionary with keys as letters and values as lists of letters, write a function closest_key to find the key with the input value closest to the beginning of the list."
   ]
  },
  {
   "cell_type": "raw",
   "id": "44ea73dc-575d-4d73-a6ed-aeaa9b94669c",
   "metadata": {},
   "source": [
    "def closest_key(d, value):\n",
    "\"\"\"\n",
    "    Find the key in dictionary `d` where the list of letters has the `value` closest to the beginning.\n",
    "    \n",
    "    :param d: Dictionary where keys are letters and values are lists of letters.\n",
    "    :param value: The letter to find in the lists.\n",
    "    :return: The key where the `value` is closest to the beginning of its list.\n",
    "    \"\"\"\n",
    "    # This will hold the key with the closest letter\n",
    "    closest_key = None\n",
    "    # Start with an infinitely large number for comparison\n",
    "    min_index = float('inf')\n",
    "    \n",
    "    # Go through each key-value pair in the dictionary\n",
    "    for key, lst in d.items():\n",
    "        # Check if the letter we are looking for is in the current list\n",
    "        if value in lst:\n",
    "            # Find the position (index) of the letter in the list\n",
    "            index = lst.index(value)\n",
    "            # If this position is closer to the start than before, update\n",
    "            if index < min_index:\n",
    "                min_index = index\n",
    "                closest_key = key\n",
    "    \n",
    "    # Return the key where the letter was closest to the start\n",
    "    return \n",
    " #Example dictionary\n",
    "d = {\n",
    "    'a': ['x', 'y', 'z'],\n",
    "    'b': ['a', 'x', 'y'],\n",
    "    'c': ['x', 'b', 'c']\n",
    "}\n",
    "\n",
    "# Example letter to search for\n",
    "value = 'x'\n",
    "\n",
    "# Call the function and print the result\n",
    "print(closest_key(d, value)) \n",
    "\n"
   ]
  },
  {
   "cell_type": "code",
   "execution_count": null,
   "id": "d3fba82b-6c3a-42fd-a202-990077182fde",
   "metadata": {},
   "outputs": [],
   "source": []
  },
  {
   "cell_type": "code",
   "execution_count": null,
   "id": "bf77dcfc-4ce5-4dac-974e-00e53d79505f",
   "metadata": {},
   "outputs": [],
   "source": []
  }
 ],
 "metadata": {
  "kernelspec": {
   "display_name": "Python 3 (ipykernel)",
   "language": "python",
   "name": "python3"
  },
  "language_info": {
   "codemirror_mode": {
    "name": "ipython",
    "version": 3
   },
   "file_extension": ".py",
   "mimetype": "text/x-python",
   "name": "python",
   "nbconvert_exporter": "python",
   "pygments_lexer": "ipython3",
   "version": "3.12.4"
  }
 },
 "nbformat": 4,
 "nbformat_minor": 5
}
